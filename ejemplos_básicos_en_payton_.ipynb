{
  "nbformat": 4,
  "nbformat_minor": 0,
  "metadata": {
    "colab": {
      "provenance": [],
      "authorship_tag": "ABX9TyNUVthGTsp5QhBUpa9bxhj3",
      "include_colab_link": true
    },
    "kernelspec": {
      "name": "python3",
      "display_name": "Python 3"
    },
    "language_info": {
      "name": "python"
    }
  },
  "cells": [
    {
      "cell_type": "markdown",
      "metadata": {
        "id": "view-in-github",
        "colab_type": "text"
      },
      "source": [
        "<a href=\"https://colab.research.google.com/github/samby05/progra-III-2023/blob/main/ejemplos_b%C3%A1sicos_en_payton_.ipynb\" target=\"_parent\"><img src=\"https://colab.research.google.com/assets/colab-badge.svg\" alt=\"Open In Colab\"/></a>"
      ]
    },
    {
      "cell_type": "markdown",
      "source": [
        "introduccion a payton\n",
        "\n",
        "declaracion de variables"
      ],
      "metadata": {
        "id": "Tm8UTtJaHsni"
      }
    },
    {
      "cell_type": "code",
      "source": [
        "data=[2,5,6,8,9]"
      ],
      "metadata": {
        "id": "MNU_hM-oJjJu"
      },
      "execution_count": null,
      "outputs": []
    },
    {
      "cell_type": "code",
      "source": [
        "resp=map(lambda n:n** 3,data)\n",
        "print (list(resp))"
      ],
      "metadata": {
        "colab": {
          "base_uri": "https://localhost:8080/"
        },
        "id": "vBraCjM1JpPm",
        "outputId": "a47762eb-5025-4f28-c998-2fe69cd66832"
      },
      "execution_count": null,
      "outputs": [
        {
          "output_type": "stream",
          "name": "stdout",
          "text": [
            "[8, 125, 216, 512, 729]\n"
          ]
        }
      ]
    },
    {
      "cell_type": "code",
      "source": [
        "f=map(lambda c:c*9/5 + 32, data )\n",
        "print(list(f))\n"
      ],
      "metadata": {
        "colab": {
          "base_uri": "https://localhost:8080/"
        },
        "id": "shc0_-WIKgZm",
        "outputId": "60d01789-0668-4254-b667-3bead7be2acb"
      },
      "execution_count": null,
      "outputs": [
        {
          "output_type": "stream",
          "name": "stdout",
          "text": [
            "[35.6, 41.0, 42.8, 46.4, 48.2]\n"
          ]
        }
      ]
    },
    {
      "cell_type": "code",
      "source": [
        "impar = filter(lambda x: x%2 != 0, data )\n",
        "print(list(impar))"
      ],
      "metadata": {
        "colab": {
          "base_uri": "https://localhost:8080/"
        },
        "id": "9Z7QuAIgLEbd",
        "outputId": "2caa29de-5762-4828-a1a5-2e5d50bdb0d1"
      },
      "execution_count": null,
      "outputs": [
        {
          "output_type": "stream",
          "name": "stdout",
          "text": [
            "[5, 9]\n"
          ]
        }
      ]
    },
    {
      "cell_type": "code",
      "source": [
        "pares=filter(lambda  n:n%2!=0,data)\n",
        "print(list(pares))"
      ],
      "metadata": {
        "colab": {
          "base_uri": "https://localhost:8080/"
        },
        "id": "VIEi6ouDNz9M",
        "outputId": "76804dac-124f-404f-a2c1-19c4f66c2878"
      },
      "execution_count": null,
      "outputs": [
        {
          "output_type": "stream",
          "name": "stdout",
          "text": [
            "[5, 9]\n"
          ]
        }
      ]
    },
    {
      "cell_type": "code",
      "execution_count": null,
      "metadata": {
        "colab": {
          "base_uri": "https://localhost:8080/"
        },
        "id": "c2APCN1zGVKi",
        "outputId": "55e09577-f457-4019-d46d-0809eccc317b"
      },
      "outputs": [
        {
          "output_type": "stream",
          "name": "stdout",
          "text": [
            "hola mundo\n"
          ]
        }
      ],
      "source": [
        "saludo =\"hola mundo\"\n",
        "\n",
        "print(saludo)"
      ]
    },
    {
      "cell_type": "code",
      "source": [
        "num1=5\n",
        "\n",
        "num2=7.5\n",
        "\n",
        "resp=num1+num2\n",
        "\n",
        "print(\"la suma de \",num1,\"+\",num2,\"=\",resp)"
      ],
      "metadata": {
        "colab": {
          "base_uri": "https://localhost:8080/"
        },
        "id": "tKrWfnLII75s",
        "outputId": "4ef45047-01cd-427d-92f5-fdeab46cf790"
      },
      "execution_count": null,
      "outputs": [
        {
          "output_type": "stream",
          "name": "stdout",
          "text": [
            "la suma de  5 + 7.5 = 12.5\n"
          ]
        }
      ]
    },
    {
      "cell_type": "code",
      "source": [
        "name=\"samuel\"\n",
        "\n",
        "edad=\"19\"\n",
        "\n",
        "saludo= \" hola \"+ name + \", tu edad \" + str(edad)\n",
        "\n",
        "print(saludo)"
      ],
      "metadata": {
        "colab": {
          "base_uri": "https://localhost:8080/"
        },
        "id": "WHZGNCKqKFkv",
        "outputId": "a2984b2f-aa3e-4625-8a58-977ee7690f14"
      },
      "execution_count": null,
      "outputs": [
        {
          "output_type": "stream",
          "name": "stdout",
          "text": [
            " hola samuel, tu edad 19\n"
          ]
        }
      ]
    },
    {
      "cell_type": "code",
      "source": [
        "nombre= input(\"dime tu nombre:\")\n",
        "\n",
        "edad=input(\"tu edad:\")\n",
        "\n",
        "saludo=\"hola que tal \" + nombre +\", tu edad :\" + edad\n",
        "\n",
        "print(saludo)"
      ],
      "metadata": {
        "colab": {
          "base_uri": "https://localhost:8080/"
        },
        "id": "vr2GLdAfLK5V",
        "outputId": "a2943216-456e-45ad-a23c-8017f03ccc68"
      },
      "execution_count": null,
      "outputs": [
        {
          "output_type": "stream",
          "name": "stdout",
          "text": [
            "dime tu nombre:samuel\n",
            "tu edad:21\n",
            "hola que tal samuel, tu edad :21\n"
          ]
        }
      ]
    },
    {
      "cell_type": "code",
      "source": [
        "num1=float (input(\"num1:\"))\n",
        "\n",
        "num2= float(input(\"num2:\"))\n",
        "\n",
        "resp= num1 + num2\n",
        "\n",
        "print(\"la suma de \",resp)"
      ],
      "metadata": {
        "colab": {
          "base_uri": "https://localhost:8080/"
        },
        "id": "joifw3USMgtq",
        "outputId": "454412b6-4344-4fa5-8b0c-6856aa036785"
      },
      "execution_count": null,
      "outputs": [
        {
          "output_type": "stream",
          "name": "stdout",
          "text": [
            "num1:2\n",
            "num2:2\n",
            "la suma de  4.0\n"
          ]
        }
      ]
    },
    {
      "cell_type": "code",
      "source": [
        "num1=float(input(\"num1:\"))\n",
        "\n",
        "num2=float(input(\"num2\"))\n",
        "\n",
        "resp=num1-num2\n",
        "\n",
        "print(\"la resta de\",resp )\n",
        "\n"
      ],
      "metadata": {
        "colab": {
          "base_uri": "https://localhost:8080/"
        },
        "id": "NtY9_u5uP7IV",
        "outputId": "dadcae29-86a8-47c6-9cc1-8d1505427d3a"
      },
      "execution_count": null,
      "outputs": [
        {
          "output_type": "stream",
          "name": "stdout",
          "text": [
            "num1:1\n",
            "num25\n",
            "la resta de -4.0\n"
          ]
        }
      ]
    },
    {
      "cell_type": "markdown",
      "source": [
        "ciclos\n",
        "\n",
        ". FORD"
      ],
      "metadata": {
        "id": "eIo0hfbtOs07"
      }
    },
    {
      "cell_type": "code",
      "source": [
        "for item in data:\n",
        "   print(item)"
      ],
      "metadata": {
        "colab": {
          "base_uri": "https://localhost:8080/"
        },
        "id": "8ZEDD1mhOzzy",
        "outputId": "1b06e9b0-2534-4f03-86f5-d749bd6b1248"
      },
      "execution_count": null,
      "outputs": [
        {
          "output_type": "stream",
          "name": "stdout",
          "text": [
            "2\n",
            "5\n",
            "6\n",
            "8\n",
            "9\n"
          ]
        }
      ]
    },
    {
      "cell_type": "markdown",
      "source": [
        ". WHILE"
      ],
      "metadata": {
        "id": "XNKqZV8tPF4x"
      }
    },
    {
      "cell_type": "code",
      "source": [
        "i=0\n",
        "n= len ( data)\n",
        "while i<n:\n",
        "  print (data[i])\n",
        "  i+=1"
      ],
      "metadata": {
        "colab": {
          "base_uri": "https://localhost:8080/"
        },
        "id": "NGVnv9-dPNDB",
        "outputId": "be064eb6-e697-46a7-fc3d-dad286b83f9f"
      },
      "execution_count": null,
      "outputs": [
        {
          "output_type": "stream",
          "name": "stdout",
          "text": [
            "2\n",
            "5\n",
            "6\n",
            "8\n",
            "9\n"
          ]
        }
      ]
    },
    {
      "cell_type": "markdown",
      "source": [
        "tablas de multiplicar"
      ],
      "metadata": {
        "id": "lYkWMAp6QnUo"
      }
    },
    {
      "cell_type": "code",
      "source": [
        "n=int(input(\"N tabla:\"))\n",
        "for i in range(1,11):\n",
        "    print(n,\"x\",i,\"=\",n*i)"
      ],
      "metadata": {
        "colab": {
          "base_uri": "https://localhost:8080/"
        },
        "id": "fOx4AveoS6SX",
        "outputId": "795f9c7b-2daa-42c8-d6c8-9ed2e57bdfb8"
      },
      "execution_count": null,
      "outputs": [
        {
          "output_type": "stream",
          "name": "stdout",
          "text": [
            "N tabla:7\n",
            "7 x 1 = 7\n",
            "7 x 2 = 14\n",
            "7 x 3 = 21\n",
            "7 x 4 = 28\n",
            "7 x 5 = 35\n",
            "7 x 6 = 42\n",
            "7 x 7 = 49\n",
            "7 x 8 = 56\n",
            "7 x 9 = 63\n",
            "7 x 10 = 70\n"
          ]
        }
      ]
    },
    {
      "cell_type": "markdown",
      "source": [
        "calculo de sueldo\n"
      ],
      "metadata": {
        "id": "0X50m0lkU-dv"
      }
    },
    {
      "cell_type": "code",
      "source": [
        "tabla_isr=[\n",
        "    [0.01,472,0,0],\n",
        "    [472.01,895.24,0.1,17.67],\n",
        "    [895.25,2038.1,0.2,60.00],\n",
        "    [2038.11,9999999,0.3,288.57]\n",
        "\n",
        "]"
      ],
      "metadata": {
        "id": "9FGITSRrVB3m"
      },
      "execution_count": null,
      "outputs": []
    },
    {
      "cell_type": "code",
      "source": [
        "edad= int (input(\"edad\"))\n",
        "\n",
        "if edad<=2:\n",
        "  print(\"soy un bebe\")\n",
        "elif edad<=11:\n",
        "  print(\"soy un niño\")\n",
        "elif edad<=18:\n",
        "  print(\"soy un adolescente\")\n",
        "elif edad<=65:\n",
        "  print(\"soy mayor de edad\")\n",
        "elif edad<=85:\n",
        "  print(\"soy adulto mayor \")\n",
        "else:\n",
        "  print(\"larga vida\")\n"
      ],
      "metadata": {
        "colab": {
          "base_uri": "https://localhost:8080/"
        },
        "id": "bdnUR2qiHYLd",
        "outputId": "acab78d6-f45e-41b9-9583-308adafce9c8"
      },
      "execution_count": null,
      "outputs": [
        {
          "output_type": "stream",
          "name": "stdout",
          "text": [
            "edad4\n",
            "soy un niño\n"
          ]
        }
      ]
    },
    {
      "cell_type": "markdown",
      "source": [
        "OBTENER EL NUMERO MAYOR DE 10 DIGITOS"
      ],
      "metadata": {
        "id": "voQARytxPw46"
      }
    },
    {
      "cell_type": "markdown",
      "source": [
        "*escribir un programa  que pida la nota de un examen (0-10), e imprima por pantalla la calificacion en formato \"suspenso\" si la nota es menor a 5,aprobado si es entre 5 inclusive, y 7 sin incluir, \"notable\"si esta entre 7 inclusive y 9 incluir,\"sobresaliente\" si esta entre 9 inclusive y 10 sin concluir, y \"honorable\" si es 10 *"
      ],
      "metadata": {
        "id": "NWFce-IoJnTf"
      }
    },
    {
      "cell_type": "markdown",
      "source": [
        "**Escriba un programa que encuentre la media aritmetica de una serie de numeros introducidos por el usuario.**"
      ],
      "metadata": {
        "id": "aVrypIPlK77n"
      }
    },
    {
      "cell_type": "code",
      "source": [
        "numeros = int(input(\"¿Cuántos números deseas ingresar?: \"))\n",
        "suma = 0\n",
        "\n",
        "for i in range(numeros):\n",
        "  numero = float(input(f\"Ingrese el número {i+1}: \"))\n",
        "  suma += numero\n",
        "\n",
        "media = suma / numeros\n",
        "\n",
        "print(f\"La media aritmética de los {numeros} números es: {media}\")"
      ],
      "metadata": {
        "colab": {
          "base_uri": "https://localhost:8080/"
        },
        "id": "F3KFrjjXK3Aw",
        "outputId": "d601137e-930b-4835-e4f2-9fe81434fe23"
      },
      "execution_count": null,
      "outputs": [
        {
          "output_type": "stream",
          "name": "stdout",
          "text": [
            "¿Cuántos números deseas ingresar?: 4\n",
            "Ingrese el número 1: 34\n",
            "Ingrese el número 2: 45\n",
            "Ingrese el número 3: 45\n",
            "Ingrese el número 4: 56\n",
            "La media aritmética de los 4 números es: 45.0\n"
          ]
        }
      ]
    },
    {
      "cell_type": "markdown",
      "source": [
        "**Escriba un programa que determine si una palabra introducida por el usuario es palindrome o no, ejm. de palabra palindrome: Ana, Oso, Oro, etc.**"
      ],
      "metadata": {
        "id": "x2qAV2JMLVWU"
      }
    },
    {
      "cell_type": "code",
      "source": [
        "palabra = input(\"Introduce una palabra: \")\n",
        "palabra = palabra.lower()\n",
        "\n",
        "palabra_reversa = palabra[::-1]\n",
        "\n",
        "if palabra == palabra_reversa:\n",
        "    print(f\"'{palabra}' es un palíndromo.\")\n",
        "else:\n",
        "    print(f\"'{palabra}' no es un palíndromo.\")"
      ],
      "metadata": {
        "colab": {
          "base_uri": "https://localhost:8080/"
        },
        "id": "w6-6jswkLU32",
        "outputId": "970e4d24-e83c-42fb-ea16-704cbe1e4633"
      },
      "execution_count": null,
      "outputs": [
        {
          "output_type": "stream",
          "name": "stdout",
          "text": [
            "Introduce una palabra: ana\n",
            "'ana' es un palíndromo.\n"
          ]
        }
      ]
    },
    {
      "cell_type": "markdown",
      "source": [
        "**Escriba un programa que convierta un numero por el usuario a su equivalente en numeros romanos: Ejm: 5 -> V.**"
      ],
      "metadata": {
        "id": "XPGzs-7ALugM"
      }
    },
    {
      "cell_type": "code",
      "source": [
        "def romano(n):\n",
        "    mapa = {\n",
        "        1: \"I\",\n",
        "        4: \"IV\",\n",
        "        5: \"V\",\n",
        "        9: \"IX\",\n",
        "        10: \"X\",\n",
        "        40: \"XL\",\n",
        "        50: \"L\",\n",
        "        90: \"XC\",\n",
        "        100: \"C\",\n",
        "        400: \"CD\",\n",
        "        500: \"D\",\n",
        "        900: \"CM\",\n",
        "        1000: \"M\"\n",
        "    }\n",
        "\n",
        "    resultado = []\n",
        "\n",
        "    claves = sorted(mapa.keys(), reverse=True)\n",
        "\n",
        "    for clave in claves:\n",
        "        while n >= clave:\n",
        "            resultado.append(mapa[clave])\n",
        "            n -= clave\n",
        "\n",
        "    return \"\".join(resultado)\n",
        "\n",
        "try:\n",
        "    numero = int(input(\"Introduce un número para convertirlo a números romanos: \"))\n",
        "    if numero <= 0 or numero > 5000:\n",
        "        print(\"El número debe estar en el rango de 1 a 5000.\")\n",
        "    else:\n",
        "        romano = romano(numero)\n",
        "        print(f\"El número {numero} en números romanos es {romano}\")\n",
        "except ValueError:\n",
        "    print(\"Por favor, introduce un número válido.\")"
      ],
      "metadata": {
        "colab": {
          "base_uri": "https://localhost:8080/"
        },
        "id": "IvZLGd85LuKC",
        "outputId": "1907e8a0-6ae6-4bc3-fb52-6f747de1a7c2"
      },
      "execution_count": null,
      "outputs": [
        {
          "output_type": "stream",
          "name": "stdout",
          "text": [
            "Introduce un número para convertirlo a números romanos: 96\n",
            "El número 96 en números romanos es XCVI\n"
          ]
        }
      ]
    },
    {
      "cell_type": "code",
      "source": [
        "nota= float(input(\"Nota: \"))\n",
        "if(nota<0 or nota>10):\n",
        "  print(\"nota invalida\")\n",
        "elif(nota<5):\n",
        "  print(\"suspenso\")\n",
        "elif(nota<7):\n",
        "  print(\"aprobado\")\n",
        "elif(nota<9):\n",
        "  print(\"notable\")\n",
        "elif(nota<10):\n",
        "  print(\"sobresaliente\")\n",
        "else:\n",
        "  print(\"honorable\")\n"
      ],
      "metadata": {
        "colab": {
          "base_uri": "https://localhost:8080/"
        },
        "id": "igFyxsCzQB0B",
        "outputId": "f4a27ffe-e3c0-4ca8-807b-a7da8965401d"
      },
      "execution_count": null,
      "outputs": [
        {
          "output_type": "stream",
          "name": "stdout",
          "text": [
            "Nota: 8\n",
            "notable\n"
          ]
        }
      ]
    },
    {
      "cell_type": "code",
      "source": [
        "limit=int(input(\"limit:\"))\n",
        "a=0\n",
        "b=1\n",
        "c=0\n",
        "while c<limit:\n",
        "  c=a+b\n",
        "  print(a,\"+\",b,\"=\",c)\n",
        "  b=a\n",
        "  a=c"
      ],
      "metadata": {
        "colab": {
          "base_uri": "https://localhost:8080/"
        },
        "id": "ITOvzg8UbfCq",
        "outputId": "ba5fa804-5367-443c-9d07-389dc0a6c712"
      },
      "execution_count": null,
      "outputs": [
        {
          "output_type": "stream",
          "name": "stdout",
          "text": [
            "limit:50\n",
            "0 + 1 = 1\n",
            "1 + 0 = 1\n",
            "1 + 1 = 2\n",
            "2 + 1 = 3\n",
            "3 + 2 = 5\n",
            "5 + 3 = 8\n",
            "8 + 5 = 13\n",
            "13 + 8 = 21\n",
            "21 + 13 = 34\n",
            "34 + 21 = 55\n"
          ]
        }
      ]
    },
    {
      "cell_type": "markdown",
      "source": [
        "*1.escriba un programa que encuentre la media aritmetica de una serie de numeros introduciodos por el usuario*\n",
        "*2.escriba un progrma que determinesi una palabra introducida por el ususario es palindrome o no , ejem de palambras palindromes: ana, oso oro etc*\n",
        "*3. escribe un programa que convierta un nmero introducido por el usuarioasu equivalente en numeros romanos ejm: 5->V*"
      ],
      "metadata": {
        "id": "tWHHrcOTcz3Q"
      }
    },
    {
      "cell_type": "markdown",
      "source": [
        "*EJERCICIO PRACTICOS*"
      ],
      "metadata": {
        "id": "TPpyZedTLXr4"
      }
    },
    {
      "cell_type": "code",
      "source": [
        "#1- Calcular sobre el sueldo las deducciones por ley ISSS (3%), AFP(6.25%), ISR(Según tabla) e imprima el total deducciones y sueldo neto.\n",
        "def DesImpuesto(sueldo):\n",
        "  return (sueldo)*0.03 + (sueldo)*0.0625"
      ],
      "metadata": {
        "id": "CR3f6bmQLfyP"
      },
      "execution_count": null,
      "outputs": []
    },
    {
      "cell_type": "code",
      "source": [
        "def calcularSueldo(sueldo):\n",
        "  return(sueldo) - (DesImpuesto(sueldo))"
      ],
      "metadata": {
        "id": "4TB3k-WrLqLQ"
      },
      "execution_count": null,
      "outputs": []
    },
    {
      "cell_type": "code",
      "source": [
        "def Impuesto2 (sueldo):\n",
        "  return (calcularSueldo(sueldo) - 895.24)*0.20 + 60"
      ],
      "metadata": {
        "id": "0umGgmchLuzo"
      },
      "execution_count": null,
      "outputs": []
    },
    {
      "cell_type": "code",
      "source": [
        "def Impuesto3 (sueldo):\n",
        "  return (calcularSueldo(sueldo) - 2032.10)*0.30 + 288.57"
      ],
      "metadata": {
        "id": "chF-6GNQL5-e"
      },
      "execution_count": null,
      "outputs": []
    },
    {
      "cell_type": "code",
      "source": [
        "sueldo= float (input(\"Ingrese su sueldo:\"))"
      ],
      "metadata": {
        "colab": {
          "base_uri": "https://localhost:8080/"
        },
        "id": "NTrN2LL9MBYG",
        "outputId": "2db05306-8936-4b98-bfa1-14108522d128"
      },
      "execution_count": null,
      "outputs": [
        {
          "name": "stdout",
          "output_type": "stream",
          "text": [
            "Ingrese su sueldo:900\n"
          ]
        }
      ]
    },
    {
      "cell_type": "code",
      "source": [
        "print(\"Su sueldo es:\",calcularSueldo(sueldo))"
      ],
      "metadata": {
        "colab": {
          "base_uri": "https://localhost:8080/"
        },
        "id": "iUQCTs91MUzD",
        "outputId": "876b0e23-de5e-4c4b-a0e4-6da2054eb5fe"
      },
      "execution_count": null,
      "outputs": [
        {
          "output_type": "stream",
          "name": "stdout",
          "text": [
            "Su sueldo es: 816.75\n"
          ]
        }
      ]
    },
    {
      "cell_type": "code",
      "source": [
        "if sueldo <=472 :\n",
        "  print(\"ud no aplica a ISR\")"
      ],
      "metadata": {
        "id": "w7GZqpWfMaFA"
      },
      "execution_count": null,
      "outputs": []
    },
    {
      "cell_type": "code",
      "source": [
        "if sueldo >= 472.01 and sueldo <=895.24:\n",
        "  print(\"Su retencion de impuesto sobre la renta en su sueldo de:\",calcularSueldo(sueldo),\"es de :\",Impuesto1(sueldo))"
      ],
      "metadata": {
        "id": "pOQsnfrvM2AX"
      },
      "execution_count": null,
      "outputs": []
    },
    {
      "cell_type": "code",
      "source": [
        "if sueldo >= 895.25 and sueldo <=2038.10:\n",
        "  print(\"Su retencion de impuesto sobre la renta en su sueldo de:\",calcularSueldo(sueldo),\"es de :\",Impuesto2(sueldo))"
      ],
      "metadata": {
        "id": "rp5X62PUM_st",
        "colab": {
          "base_uri": "https://localhost:8080/"
        },
        "outputId": "07364a38-bccb-4ef8-e941-241a94f7e814"
      },
      "execution_count": null,
      "outputs": [
        {
          "output_type": "stream",
          "name": "stdout",
          "text": [
            "Su retencion de impuesto sobre la renta en su sueldo de: 816.75 es de : 44.302\n"
          ]
        }
      ]
    },
    {
      "cell_type": "code",
      "source": [
        "if sueldo >= 2038.11:\n",
        "  print(\"Su retencion de impuesto sobre la renta en su sueldo de:\",calcularSueldo(sueldo),\"es de :\",Impuesto3(sueldo))"
      ],
      "metadata": {
        "id": "TjQCNf05NHi2"
      },
      "execution_count": null,
      "outputs": []
    },
    {
      "cell_type": "code",
      "source": [
        "#2- Calcular el valor a pagar según el número de metros consumidos de agua potable\n",
        "respuesta = input(\"Ver menu:\\n\")\n",
        "while respuesta == \"si\":\n",
        "  mts = int(input(\"Escribe la cantida de metros consumidos: \"))\n",
        "  if mts >= 1 and mts <= 18:\n",
        "    calc = lambda m:m*6\n",
        "    print(\"cuota de 1 - 18\")\n",
        "    print(\"Total $:\", calc(mts), \"\\n\")\n",
        "    respuesta = input(\"Deseas seguir viendo el menu: \")\n",
        "\n",
        "  elif mts >= 19 and mts <= 28:\n",
        "    calc = lambda m:(m-18)*0.45+6\n",
        "    print(\"cuota de 19 - 28\")\n",
        "    print(\"Total $:\", calc(mts), \"\\n\")\n",
        "    respuesta = input(\"Deseas seguir viendo el menu: \")\n",
        "\n",
        "  elif mts >= 29:\n",
        "    calc = lambda m :(m-28)*0.65+(28-18)*0.45+6\n",
        "    print(\"cuota de 29 en adelante\")\n",
        "    print(\"Total $:\", calc(mts), \"\\n\")\n",
        "    respuesta = input(\"Deseas seguir viendo el menu: \")\n",
        "print(\"Saliste del menu\")"
      ],
      "metadata": {
        "colab": {
          "base_uri": "https://localhost:8080/"
        },
        "id": "fk8BH-7ONOsS",
        "outputId": "c1f3c6b9-9988-42c7-f5a3-32c7fd00f221"
      },
      "execution_count": null,
      "outputs": [
        {
          "output_type": "stream",
          "name": "stdout",
          "text": [
            "Ver menu:\n",
            "si\n",
            "Escribe la cantida de metros consumidos: 35\n",
            "cuota de 29 en adelante\n",
            "Total $: 15.05 \n",
            "\n",
            "Deseas seguir viendo el menu: no\n",
            "Saliste del menu\n"
          ]
        }
      ]
    },
    {
      "cell_type": "code",
      "source": [
        "#3- Desarrolle la tabla de meses acumulados a n meses. Si puede encontrar la formula matemática para evitar ciclos.\n",
        "\n",
        "mes = int(input(\"Escriba cuantos meses va a pagar: \"))\n",
        "def sum(mes):\n",
        "  n = mes\n",
        "  formula = n * (n + 1) / 2\n",
        "  total = formula\n",
        "  print(\"Mes:\", n, \"\\nAcumulado:\", total)\n",
        "\n",
        "sum(mes)"
      ],
      "metadata": {
        "colab": {
          "base_uri": "https://localhost:8080/"
        },
        "id": "vB8L_rJsNnoj",
        "outputId": "04cc6ff2-8584-429e-da9e-cc07d1b95f9b"
      },
      "execution_count": null,
      "outputs": [
        {
          "output_type": "stream",
          "name": "stdout",
          "text": [
            "Escriba cuantos meses va a pagar: 450\n",
            "Mes: 450 \n",
            "Acumulado: 101475.0\n"
          ]
        }
      ]
    },
    {
      "cell_type": "code",
      "source": [
        "#4- Conversores:(10 ítems como mínimo por cada uno) Moneda, Longitud, Masa, Almacenamiento, Tiempo, Volumen, Área\n",
        "def convertir(conversor, de, a, cantidad):\n",
        "  return valores[conversor][a] / valores[conversor][de] * cantidad"
      ],
      "metadata": {
        "id": "xk36iHdAN0sG"
      },
      "execution_count": null,
      "outputs": []
    },
    {
      "cell_type": "code",
      "source": [
        "etiquetas = [\n",
        "  [],\n",
        "\n",
        "  [\"Seleccione una divisa\", \"1. Dolares\", \"2. quetzales\", \"3. lempiras\", \"4. cordoba\", \"5. pesos CR\", \"6. Euros\", \"7. colon SV\", \"8. Yenes\",\n",
        "   \"9. Soles Peruanos\", \"10. Libras Esterlinas\"], #Divisas\n",
        "  [\"Seleccione una opcion\", \"1. Metros\", \"2. Milimetros\", \"3. Centimetro\", \"4. Pie\", \"5. Varas\", \"6. Yardas\", \"7. Km\", \"8. Millas\",\n",
        "   \"9. Micrometro\", \"10. Nanometro\"], #Longitud\n",
        "  [\"Selecciona una unidad de medida:\", \"1. Tonelada\", \"2. Kilogramo\", \"3. Gramo\", \"4. Centigramo\",\n",
        "  \"5. Miligramo\", \"6. Microgramo\", \"7. Tonelada corta\", \"8. Stone\", \"9. Libra\", \"10. Onza\"], #Masa\n",
        "  [\"Seleccione una unidad de medida\", \"1. Pebibyte\", \"2. Petabyte\", \"3. Tetibyte\", \"4. Terabyte\", \"5. Gibibyte\",\n",
        "   \"6. Gigabyte\", \"7. Mebibyte\", \"8. Megabyte\", \"9. Kibibyte\", \"10. Kilobyte\", \"11. Byte\"], #Almacenamiento\n",
        "  [\"Selecciona una unidad de medida:\", \"1. Siglo\", \"2. Decada\", \"3. Año natural\", \"4. Mes\", \"5. Semana\",\n",
        "   \"6. Dia\", \"7. Hora\", \"8. Minuto\", \"9. Segundo\", \"10. Milisegundo\"], #Tiempo\n",
        "  [\"Selecciona una unidad de medida:\", \"1. Metro cubico\", \"2. Litro\", \"3. Mililitro\", \"4. Galon imperial\", \"5. Cuarto imperial\",\n",
        "   \"6. Pinta imperial\", \"7. Taza imperial\", \"8. Onza liquida imperial\", \"9. Cucharada imperial\", \"10. Cucharadita imperial\"], #Volumen\n",
        "  [\"Selecciona una unidad de medida:\", \"1. Kilometro cuadrado\", \"2. Metro cuadrado\", \"3. Milla cuadrada\", \"4. Yarda cuadrada\", \"5. Pie cuadrado\",\n",
        "   \"6. Pulgada cuadrada\", \"7. Hectarea\", \"8. Acre\", \"9. Tareas\", \"10. Manzanas\"] #Area\n",
        "]\n",
        "valores = [[],\n",
        "    [0, 1, 7.71, 24.51, 35.77, 664.64, 0.98, 0.75, 134.13, 3.84, 0.85], #Divisas\n",
        "    [0, 1, 1000, 100, 3.28084, 1.1963081929167, 1.0936133, 0.001, 0.000621371, 1e+6, 1e+9], #Longitudes\n",
        "    [0, 1, 1000, 1e+6, 1e+8, 1e+9, 1e+12, 1.102, 157.5, 2205, 35270], #Masa\n",
        "    [0, 1, 1.126, 1024, 1126, 1.049e+6, 1.126e+6, 1.074e+9, 1.126e+9, 1.1e+12, 1.126e+12, 1.126e+15], #Almacenamiento\n",
        "    [0, 1, 10, 100, 1200, 5214, 36500, 876000, 5.256e+7, 3.154e+9, 3.154e+12], #Tiempo\n",
        "    [0, 1, 1000, 1e+6, 220, 879.9, 1760, 3520, 35200, 56310, 168900], #Volumen\n",
        "    [0, 1, 1e+6, 0.3861, 1.196e+6, 1.076e+7, 1.55e+9, 100, 247.1, 1590.3307888, 141.7] #Area\n",
        "]"
      ],
      "metadata": {
        "id": "FVxKHEU9OReu"
      },
      "execution_count": null,
      "outputs": []
    },
    {
      "cell_type": "code",
      "source": [
        "print(\"**MENU CONVERSOR**\")\n",
        "print(\"1. Divisas\")\n",
        "print(\"2. Longitud\")\n",
        "print(\"3. Masa\")\n",
        "print(\"4. Almacenamiento\")\n",
        "print(\"5. Tiempo\")\n",
        "print(\"6. Volumen\")\n",
        "print(\"7. Area\")\n",
        "opcion = int(input(\"Conversor: \"))\n",
        "print(\"Conversor elegido: \", etiquetas[opcion])\n",
        "de = int(input(\"De: \"))\n",
        "a = int(input(\"A: \"))\n",
        "cantidad = int(input(\"Cantidad: \"))\n",
        "print(\"Conversion de \", etiquetas[opcion][de], \"a\", etiquetas[opcion][a], \"equivale a\", convertir(opcion, de, a, cantidad))"
      ],
      "metadata": {
        "colab": {
          "base_uri": "https://localhost:8080/"
        },
        "id": "K5Op9ovvObXv",
        "outputId": "b9556646-15d9-4098-cb1d-e155fa465598"
      },
      "execution_count": null,
      "outputs": [
        {
          "output_type": "stream",
          "name": "stdout",
          "text": [
            "**MENU CONVERSOR**\n",
            "1. Divisas\n",
            "2. Longitud\n",
            "3. Masa\n",
            "4. Almacenamiento\n",
            "5. Tiempo\n",
            "6. Volumen\n",
            "7. Area\n",
            "Conversor: 1\n",
            "Conversor elegido:  ['Seleccione una divisa', '1. Dolares', '2. quetzales', '3. lempiras', '4. cordoba', '5. pesos CR', '6. Euros', '7. colon SV', '8. Yenes', '9. Soles Peruanos', '10. Libras Esterlinas']\n",
            "De: 2\n",
            "A: 5\n",
            "Cantidad: 100\n",
            "Conversion de  2. quetzales a 5. pesos CR equivale a 8620.492866407263\n"
          ]
        }
      ]
    },
    {
      "cell_type": "code",
      "source": [
        "#5- Realizar un conversor propio, donde espesifique el valor de conversión:\n",
        "#Realizar conversion de caja a unidades y viceversa\n",
        "print(\"1 caja equivale a 25 unidades\")\n",
        "print(\"\")\n",
        "cj = float(input(\"Ingresa una cantidad de cajas: \"))\n",
        "unidades = cj*25\n",
        "print(cj,\"cajas equivalen a\", unidades,\"unidades\")"
      ],
      "metadata": {
        "id": "Isgp0QW_8Bih",
        "colab": {
          "base_uri": "https://localhost:8080/"
        },
        "outputId": "00ad7406-9cf4-469c-fe6d-fa5492d9060e"
      },
      "execution_count": null,
      "outputs": [
        {
          "output_type": "stream",
          "name": "stdout",
          "text": [
            "1 caja equivale a 25 unidades\n",
            "\n",
            "Ingresa una cantidad de cajas: 45\n",
            "45.0 cajas equivalen a 1125.0 unidades\n"
          ]
        }
      ]
    },
    {
      "cell_type": "code",
      "source": [
        "#Viseversa\n",
        "uni = float(input(\"Ingresa una cantidad de unidades: \"))\n",
        "cj = uni/25\n",
        "print(uni,\"unidades equivalen a\",cj,\"cajas\")"
      ],
      "metadata": {
        "id": "lG0hb49Y8EYe",
        "colab": {
          "base_uri": "https://localhost:8080/"
        },
        "outputId": "0c3f0223-a060-43df-c8fa-68df048be4ae"
      },
      "execution_count": null,
      "outputs": [
        {
          "output_type": "stream",
          "name": "stdout",
          "text": [
            "Ingresa una cantidad de unidades: 34.5\n",
            "34.5 unidades equivalen a 1.38 cajas\n"
          ]
        }
      ]
    },
    {
      "cell_type": "code",
      "source": [
        "#Realizar conversion de sacos a libras y viseversa\n",
        "print(\"1 saco equivale a 50 libras\")\n",
        "print(\"\")\n",
        "sc = float(input(\"Ingresa una cantidad de sacos: \"))\n",
        "lb = sc*50\n",
        "print(sc,\"sacos equivalen a\", lb,\"libras\")"
      ],
      "metadata": {
        "id": "E4ddlB2e8ED5",
        "colab": {
          "base_uri": "https://localhost:8080/"
        },
        "outputId": "e3ed9e68-337d-4a2d-8365-c56e7416c281"
      },
      "execution_count": null,
      "outputs": [
        {
          "output_type": "stream",
          "name": "stdout",
          "text": [
            "1 saco equivale a 50 libras\n",
            "\n",
            "Ingresa una cantidad de sacos: 44.5\n",
            "44.5 sacos equivalen a 2225.0 libras\n"
          ]
        }
      ]
    },
    {
      "cell_type": "code",
      "source": [
        "#Viseversa\n",
        "lb = float(input(\"Ingresa una cantidad de libras: \"))\n",
        "sc = lb/50\n",
        "print(lb,\"libras equivalen a\",sc,\"sacos\")"
      ],
      "metadata": {
        "id": "9uTwWrBM8RqZ",
        "colab": {
          "base_uri": "https://localhost:8080/"
        },
        "outputId": "3d13d1eb-0ef2-4276-a76d-0f87e1fb9984"
      },
      "execution_count": null,
      "outputs": [
        {
          "output_type": "stream",
          "name": "stdout",
          "text": [
            "Ingresa una cantidad de libras: 55.7\n",
            "55.7 libras equivalen a 1.114 sacos\n"
          ]
        }
      ]
    },
    {
      "cell_type": "code",
      "source": [
        "#Realizar conversion de fardos a unidades y viseversa\n",
        "print(\"1 fardo equivale a 5 unidades\")\n",
        "print(\"\")\n",
        "fr = float(input(\"Ingresa una cantidad de fardos: \"))\n",
        "un = fr*5\n",
        "print(fr,\"fardos equivalen a\", un,\"unidades\")"
      ],
      "metadata": {
        "id": "6v7jcYun8ZXX",
        "colab": {
          "base_uri": "https://localhost:8080/"
        },
        "outputId": "eea0747c-7c52-490a-ac8a-fc19931d69e8"
      },
      "execution_count": null,
      "outputs": [
        {
          "output_type": "stream",
          "name": "stdout",
          "text": [
            "1 fardo equivale a 5 unidades\n",
            "\n",
            "Ingresa una cantidad de fardos: 56.98\n",
            "56.98 fardos equivalen a 284.9 unidades\n"
          ]
        }
      ]
    },
    {
      "cell_type": "code",
      "source": [
        "#Viseversa\n",
        "un = float(input(\"Ingresa una cantidad de unidades: \"))\n",
        "fr = un/5\n",
        "print(un,\"unidades equivalen a\",fr,\"fardos\")"
      ],
      "metadata": {
        "id": "P45tlk4f8ZIB",
        "colab": {
          "base_uri": "https://localhost:8080/"
        },
        "outputId": "e51ca9b0-da5f-4e46-aec8-64baa0ff6566"
      },
      "execution_count": null,
      "outputs": [
        {
          "output_type": "stream",
          "name": "stdout",
          "text": [
            "Ingresa una cantidad de unidades: 555\n",
            "555.0 unidades equivalen a 111.0 fardos\n"
          ]
        }
      ]
    },
    {
      "cell_type": "markdown",
      "source": [
        "**PROGRAMACION ORDENADA A OBJETOS**"
      ],
      "metadata": {
        "id": "zYOgwD2PQIuO"
      }
    },
    {
      "cell_type": "code",
      "source": [
        "class calculadora:\n",
        "  def sumar(self,num1,num2):\n",
        "    return num1 + num2"
      ],
      "metadata": {
        "id": "kWYa9FzcQZy1"
      },
      "execution_count": null,
      "outputs": []
    },
    {
      "cell_type": "markdown",
      "source": [
        "**INTANSIA DE UNA CLASE**"
      ],
      "metadata": {
        "id": "b1AEbYuqQxop"
      }
    },
    {
      "cell_type": "code",
      "source": [
        "objcalculadora = calculadora()"
      ],
      "metadata": {
        "id": "lZZAbFRVQ2E4"
      },
      "execution_count": null,
      "outputs": []
    },
    {
      "cell_type": "markdown",
      "source": [
        "**OBJETO**"
      ],
      "metadata": {
        "id": "56MW6xabROZ3"
      }
    },
    {
      "cell_type": "code",
      "source": [
        "print(\"la suma de 2+3 =\",objcalculadora,sumar(5,3))"
      ],
      "metadata": {
        "colab": {
          "base_uri": "https://localhost:8080/",
          "height": 175
        },
        "id": "rRq2ttRMRUF7",
        "outputId": "c87f8800-2e6b-4b77-fec2-51fe93e4fead"
      },
      "execution_count": null,
      "outputs": [
        {
          "output_type": "error",
          "ename": "NameError",
          "evalue": "ignored",
          "traceback": [
            "\u001b[0;31m---------------------------------------------------------------------------\u001b[0m",
            "\u001b[0;31mNameError\u001b[0m                                 Traceback (most recent call last)",
            "\u001b[0;32m<ipython-input-26-675c3e88e702>\u001b[0m in \u001b[0;36m<cell line: 1>\u001b[0;34m()\u001b[0m\n\u001b[0;32m----> 1\u001b[0;31m \u001b[0mprint\u001b[0m\u001b[0;34m(\u001b[0m\u001b[0;34m\"la suma de 2+3 =\"\u001b[0m\u001b[0;34m,\u001b[0m\u001b[0mobjcalculadora\u001b[0m\u001b[0;34m,\u001b[0m\u001b[0msumar\u001b[0m\u001b[0;34m(\u001b[0m\u001b[0;36m5\u001b[0m\u001b[0;34m,\u001b[0m\u001b[0;36m3\u001b[0m\u001b[0;34m)\u001b[0m\u001b[0;34m)\u001b[0m\u001b[0;34m\u001b[0m\u001b[0;34m\u001b[0m\u001b[0m\n\u001b[0m",
            "\u001b[0;31mNameError\u001b[0m: name 'sumar' is not defined"
          ]
        }
      ]
    },
    {
      "cell_type": "markdown",
      "source": [
        "**PRIMER PARCIAL DEL COMPUTO 1**"
      ],
      "metadata": {
        "id": "n6-1ukTPUI9P"
      }
    },
    {
      "cell_type": "markdown",
      "source": [
        "**Desarrolle el conversor de Área (Superficie) haciendo uso de los\n",
        "diccionarios y las funciones de usuario en Python que contenga las\n",
        "siguientes opciones\n",
        "\n",
        "a. Pie Cuadrado\n",
        "\n",
        "b. Vara Cuadrada\n",
        "\n",
        "c. Yarda Cuadrada\n",
        "\n",
        "d. Metro Cuadrado\n",
        "\n",
        "e. Tareas\n",
        "\n",
        "f. Manzana\n",
        "\n",
        "g. Hectárea**"
      ],
      "metadata": {
        "id": "27L8EJ7Cb8Tp"
      }
    },
    {
      "cell_type": "code",
      "source": [
        "areas = {\n",
        "    'Pie Cuadrado': 75820.9849753,\n",
        "    'Vara Cuadrada': 8424.55388614,\n",
        "    'Yarda Cuadrada': 1.19599,\n",
        "    'Metro Cuadrado': 6989.96,\n",
        "    'Tareas': 16,\n",
        "    'Manzana': 1,\n",
        "    'Hectárea': 0.698896\n",
        "}\n",
        "\n",
        "def convert_area(valor, from_unit, to_unit):\n",
        "    if from_unit in areas and to_unit in areas:\n",
        "        valor_convertir = valor * (areas[to_unit] / areas[from_unit])\n",
        "        return valor_convertir\n",
        "    else:\n",
        "        return None\n",
        "\n",
        "def main():\n",
        "    print(\"Conversor de Áreas\")\n",
        "    print(\"Unidades disponibles:\", \", \".join(areas.keys()))\n",
        "\n",
        "    from_unit = input(\"Ingrese la unidad de área de origen: \")\n",
        "    to_unit = input(\"Ingrese la unidad de área de destino: \")\n",
        "\n",
        "    if from_unit in areas and to_unit in areas:\n",
        "        valor = float(input(f\"Ingrese el valor en {from_unit}: \"))\n",
        "        valor_convertir = convert_area(valor, from_unit, to_unit)\n",
        "        if valor_convertir is not None:\n",
        "            print(f\"{valor} {from_unit} equivale a {valor_convertir} {to_unit}\")\n",
        "        else:\n",
        "            print(\"Las unidades ingresadas no son válidas.\")\n",
        "    else:\n",
        "        print(\"Las unidades ingresadas no son válidas.\")\n",
        "\n",
        "if __name__ == \"__main__\":\n",
        "    main()\n"
      ],
      "metadata": {
        "colab": {
          "base_uri": "https://localhost:8080/"
        },
        "id": "hcUZBS11l-z6",
        "outputId": "f7d40e66-6e85-4130-fecf-454cfe37c624"
      },
      "execution_count": null,
      "outputs": [
        {
          "output_type": "stream",
          "name": "stdout",
          "text": [
            "Conversor de Áreas\n",
            "Unidades disponibles: Pie Cuadrado, Vara Cuadrada, Yarda Cuadrada, Metro Cuadrado, Tareas, Manzana, Hectárea\n",
            "Ingrese la unidad de área de origen: Vara cuadra\n",
            "Ingrese la unidad de área de destino: Yarda Cuadrada\n",
            "Las unidades ingresadas no son válidas.\n"
          ]
        }
      ]
    }
  ]
}